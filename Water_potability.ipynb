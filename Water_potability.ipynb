{
 "cells": [
  {
   "cell_type": "markdown",
   "id": "b64616c6",
   "metadata": {},
   "source": [
    "# Raport z analizy i modelowania zbioru danych zawierającego informacje o właściwościach wody "
   ]
  },
  {
   "cell_type": "markdown",
   "id": "2e5ad93e",
   "metadata": {},
   "source": [
    "Celem analizy zbioru danych jest klasyfikacja próbek wody na zdatną lub niezdatną do picia. Modelowana będzie zmienna \"potability\" - oznaczająca czystą wodę, która nadaje się do spożycia."
   ]
  },
  {
   "cell_type": "markdown",
   "id": "183ab4d7",
   "metadata": {},
   "source": [
    "Motywacja: \"Dostęp do bezpiecznej wody pitnej jest niezbędny dla zdrowia. Jest podstawowym prawem człowieka i elementem skutecznej polityki ochrony zdrowia. Ważna jest również jako kwestia rozwoju na poziomie krajowym, regionalnym i lokalnym. W niektórych regionach wykazano, że inwestycje w zaopatrzenie w wodę i urządzenia sanitarne mogą przynieść korzyści ekonomiczne netto, ponieważ zmniejszenie negatywnych skutków zdrowotnych i kosztów opieki zdrowotnej przewyższają koszty podjęcia interwencji.\""
   ]
  },
  {
   "cell_type": "markdown",
   "id": "fa863a85",
   "metadata": {},
   "source": [
    "Opis modelowanej zmiennej:"
   ]
  },
  {
   "cell_type": "markdown",
   "id": "1e964146",
   "metadata": {},
   "source": [
    "Woda pitna - czysta woda, która nadaje się do spożycia (bez zagrożenia dla zdrowia). Powinna ona zawierać odpowiednią ilość soli mineralnych, a nie zawierać zanieczyszczeń organicznych i nieorganicznych. Wodę pitną można czerpać ze studni lub innych ujęć, a na terenach zurbanizowanych jej podstawowym rodzajem jest woda wodociągowa. W krajach rozwiniętych coraz powszechniej spożywa się wodę mineralną.Czasami wodę pitną można uzyskać przez przegotowanie wody powierzchniowej, lecz nie daje to gwarancji unieszkodliwienia wszystkich drobnoustrojów. Spożywanie wody skażonej bakteriologicznie może być przyczyną zatrucia, którego najczęstszymi objawami są nudności, wymioty i biegunka."
   ]
  },
  {
   "cell_type": "markdown",
   "id": "153ce70c",
   "metadata": {},
   "source": [
    "Opis danych:"
   ]
  },
  {
   "cell_type": "markdown",
   "id": "fcea88ff",
   "metadata": {},
   "source": [
    "(1) pH - jest ważnym miernikiem w określaniu równowagi kwasowo-zasadowej wody. Może być również używany do określenia, czy woda ma odczyn kwaśny lub zasadowy. Maksymalna dopuszczalna granica pH została ustalona przez WHO na 6,5 do 8,5. "
   ]
  },
  {
   "cell_type": "markdown",
   "id": "bd4c3c48",
   "metadata": {},
   "source": [
    "(2) Hardness - twardość wody to właściwość wynikająca z obecności w niej soli wapnia, magnezu i innych metali, a dokładnie – z ich stężenia. Czas kontaktu wody z materiałem powodującym twardość wpływa na stopień twardości wody surowej."
   ]
  },
  {
   "cell_type": "markdown",
   "id": "b4824d3d",
   "metadata": {},
   "source": [
    "(3) Solids - substancje stałe, które składają się ze wszystkich zawieszonych, koloidalnych i rozpuszczonych substancji. Są to wszelkie rozpuszczone sole, takie jak chlorek sodu (NaCl) i cząstki stałe, takie jak muł i plankton.W zależności od kryteriów oceny, wysoki poziom całkowitej zawartości części stałych może spowodować, że próbka zostanie uznana za skażoną."
   ]
  },
  {
   "cell_type": "markdown",
   "id": "e87145ca",
   "metadata": {},
   "source": [
    "(4) Chloramines - chloramina jest popularnym środkiem odkażającym, stosowanym w roztworach wodnych, o lepszym działaniu od roztworów samego chloru, gdyż jest od niego trwalsza w roztworach, a ze związkami organicznymi nie tworzy szkodliwych dla zdrowia halometanów. "
   ]
  },
  {
   "cell_type": "markdown",
   "id": "ca2524b9",
   "metadata": {},
   "source": [
    "(5) Sulfate - do wody dostają się ze ściekami przemysłowymi oraz opadami atmosferycznymi, w wodzie podziemnej występują w najwyższych stężeniach i pochodzą ze źródeł naturalnych. Są jednymi z najmniej toksycznych anionów, chociaż przy ich wysokich stężeniach następuje odwodnienie i podrażnienie przewodu pokarmowego. Obecność siarczanów w wodzie do spożycia może również powodować wyczuwalną zmianę jej smaku oraz może przyczyniać się do korozji systemów wodociągowych."
   ]
  },
  {
   "cell_type": "markdown",
   "id": "5d70adce",
   "metadata": {},
   "source": [
    "(6) Conductivity - przewodność jest wskaźnikiem całkowitej ilości rozpuszczonych minerałów zawartych w wodzie. Woda deszczowa ma niską przewodność, natomiast woda ściekowa czy ta w dolnych biegach rzek – wysoką. Wyższa przewodność sama w sobie nie powoduje problemów zdrowotnych. Wręcz przeciwnie – wody mineralne (tj. wody z wysoką zawartością minerałów) są często lecznicze. Jednak pod względem długotrwałej konsumpcji zbyt zmineralizowana woda nie jest idealna."
   ]
  },
  {
   "cell_type": "markdown",
   "id": "e0654a9c",
   "metadata": {},
   "source": [
    "(7) Organic carbon - ogólny węgiel organiczny to miara ilości związków organicznych zawartych w próbce wody. Związki zawierające węgiel organiczny mogą być rozpuszczone w wodzie lub występować jako nierozpuszczona w wodzie zawiesina materiału lub płynu. Ta materia organiczna może dostawać się do wody w sposób naturalny, ale także ze źródeł i w wyniku procesów obsługiwanych przez człowieka. Przykładami substancji organicznych są substancje pochodzenia roślinnego lub zwierzęcego oraz syntetyczne, które zawierają węgiel i inne pierwiastki tworzące związki organiczne."
   ]
  },
  {
   "cell_type": "markdown",
   "id": "22197ebc",
   "metadata": {},
   "source": [
    "(8) Trihalomethanes - powstają w wodzie do picia głównie na skutek reakcji chloru z naturalnie występującymi składnikami organicznymi i znajdującymi się w wodzie bromkami. Spośród związków należących do omawianej grupy, w wodzie najczęściej stwierdza się obecność chloroformu, o stężeniu sporadycznie sięgającym nawet kilkuset mikrogramów na litr. W wyniku wprowadzenia chloroformu drogą doustną, w organizmie może powstać kilka czynnych przejściowych metabolitów. Długotrwałe narażenie na dużą dawkę może w konsekwencji powodować zmiany w wątrobie, nerkach i tarczycy."
   ]
  },
  {
   "cell_type": "markdown",
   "id": "6b97c9f3",
   "metadata": {},
   "source": [
    "(9) Turbidity - mętność wody powodują nierozpuszczone substancje zawieszone w wodzie. Może chodzić o substancje nieorganiczne ( piaski, iłły, wytrącone związki żelaza i manganu, a także związki chemiczne pochodzące ze ścieków) lub organiczne ( gliny, związki humusowe, obumarłe cząstki roślin, plankton, bakterie oraz nierozpuszczalne związki organiczne ze ścieków przemysłowych)."
   ]
  },
  {
   "cell_type": "markdown",
   "id": "624ef0e6",
   "metadata": {},
   "source": [
    "Opis jednostek w jakich podane są zmienne:"
   ]
  },
  {
   "cell_type": "raw",
   "id": "796d15b5",
   "metadata": {},
   "source": [
    "1. ph: 0 do 14\n",
    "2. Hardness: mg/L\n",
    "3. Solids: ppm\n",
    "4. Chloramines: ppm\n",
    "5. Sulfate: mg/L\n",
    "6. Conductivity: μS/cm\n",
    "7. Organic_carbon: ppm\n",
    "8. Trihalomethanes: μg/L\n",
    "9. Turbidity: NTU\n",
    "10. Potability: Pitna -1 , Nienadająca się do spożycia -0"
   ]
  },
  {
   "cell_type": "markdown",
   "id": "acb97b04",
   "metadata": {},
   "source": [
    "Pochodzenie danych: https://www.kaggle.com/adityakadiwal/water-potability"
   ]
  },
  {
   "cell_type": "code",
   "execution_count": null,
   "id": "937288aa",
   "metadata": {},
   "outputs": [],
   "source": [
    "#import bibliotek\n",
    "import pandas as pd\n",
    "import numpy as np\n",
    "import matplotlib.pyplot as plt\n",
    "import seaborn as sns\n",
    "import sklearn\n",
    "import statsmodels.api as sm\n",
    "import statsmodels.formula.api as smf\n",
    "import sklearn.linear_model as skl_lm\n",
    "import sklearn.ensemble\n",
    "import warnings\n",
    "warnings.simplefilter(action='ignore', category=FutureWarning)\n",
    "\n",
    "from scipy import stats\n",
    "from sklearn import neighbors\n",
    "from sklearn.metrics import confusion_matrix, classification_report, precision_score, plot_confusion_matrix\n",
    "from sklearn.linear_model import LogisticRegression\n",
    "from sklearn.model_selection import GridSearchCV, RandomizedSearchCV, StratifiedKFold, cross_val_score, train_test_split\n",
    "from itertools import product\n",
    "from sklearn.utils import resample, shuffle\n",
    "from sklearn.ensemble import RandomForestClassifier\n",
    "from sklearn.neighbors import KNeighborsClassifier\n",
    "from sklearn.svm import SVC"
   ]
  },
  {
   "cell_type": "markdown",
   "id": "ee3a3e8d",
   "metadata": {},
   "source": [
    "Eksploracyjna analiza danych:"
   ]
  },
  {
   "cell_type": "raw",
   "id": "f467f07d",
   "metadata": {},
   "source": [
    "Opis procesu przygotowania danych do analizy i modelowania \n",
    "1. Wczytanie danych\n",
    "2. Określenie typu danych dla każdej zmiennej\n",
    "3. Analiza równowagi zmiennej celu\n",
    "4. Uzupełnienie brakujących danych\n",
    "5. Analiza dystrybucji poszczególnych zmiennych\n",
    "6. Analiza współliniowości\n",
    "7. Analiza punktów odstających\n",
    "8. Upsampling zmiennej 'Potability'\n",
    "9. Podział zbioru na uczący i testujący\n",
    "10. Standaryzacja\n",
    "11. Modelowanie"
   ]
  },
  {
   "cell_type": "code",
   "execution_count": null,
   "id": "5dae6ab0",
   "metadata": {},
   "outputs": [],
   "source": [
    "#wczytanie danych\n",
    "df = pd.read_csv('water_potability.csv')"
   ]
  },
  {
   "cell_type": "code",
   "execution_count": null,
   "id": "94669054",
   "metadata": {},
   "outputs": [],
   "source": [
    "df.head()"
   ]
  },
  {
   "cell_type": "code",
   "execution_count": null,
   "id": "f55e3a70",
   "metadata": {},
   "outputs": [],
   "source": [
    "df.describe().T"
   ]
  },
  {
   "cell_type": "code",
   "execution_count": null,
   "id": "f1862506",
   "metadata": {},
   "outputs": [],
   "source": [
    "df.dtypes"
   ]
  },
  {
   "cell_type": "markdown",
   "id": "f61ef16f",
   "metadata": {},
   "source": [
    "Wszystkie zmienne są numeryczne, a więc nie trzeba zmieniać ich typu."
   ]
  },
  {
   "cell_type": "code",
   "execution_count": null,
   "id": "9cd852e4",
   "metadata": {},
   "outputs": [],
   "source": [
    "df.info()"
   ]
  },
  {
   "cell_type": "code",
   "execution_count": null,
   "id": "71c5b780",
   "metadata": {},
   "outputs": [],
   "source": [
    "df.shape"
   ]
  },
  {
   "cell_type": "markdown",
   "id": "9024435a",
   "metadata": {},
   "source": [
    "Zbiór danych posiada 3276 wierszy oraz 10 kolumn"
   ]
  },
  {
   "cell_type": "code",
   "execution_count": null,
   "id": "6dc040e5",
   "metadata": {},
   "outputs": [],
   "source": [
    "#sprawdzenie równowagi zmiennej celu\n",
    "df.Potability.value_counts()"
   ]
  },
  {
   "cell_type": "code",
   "execution_count": null,
   "id": "35e8f63e",
   "metadata": {},
   "outputs": [],
   "source": [
    "fig, ax = plt.subplots(figsize = (8, 8))\n",
    "\n",
    "ax.pie(df.Potability.value_counts(), labels = [\"0\", \"1\"], explode = (0, 0.05), shadow=True, radius=0.75,\n",
    "       autopct = '%1.2f%%', startangle = 180, colors = [\"#ff9999\", \"#66b3ff\"])\n",
    "\n",
    "ax.legend(['Niezdatna', 'Zdatna'])\n",
    "ax.set_title(\"Zdatność wody do picia\")\n",
    "plt.show()"
   ]
  },
  {
   "cell_type": "markdown",
   "id": "3cafa44f",
   "metadata": {},
   "source": [
    "W póżniejszych krokach na pewno zajmę się sprowadzeniem podziału zmiennej celu do równowagi"
   ]
  },
  {
   "cell_type": "code",
   "execution_count": null,
   "id": "1a18d4f6",
   "metadata": {},
   "outputs": [],
   "source": [
    "#sprawdzenie obecności brakujących danych:\n",
    "df.isnull().any()"
   ]
  },
  {
   "cell_type": "code",
   "execution_count": null,
   "id": "c40313c4",
   "metadata": {},
   "outputs": [],
   "source": [
    "df.isna().sum()"
   ]
  },
  {
   "cell_type": "code",
   "execution_count": null,
   "id": "8ddab72a",
   "metadata": {},
   "outputs": [],
   "source": [
    "sns.heatmap(df.isnull(),yticklabels=False,cbar=False,cmap='viridis')"
   ]
  },
  {
   "cell_type": "markdown",
   "id": "7696d6df",
   "metadata": {},
   "source": [
    "Trzy zmienne posiadają brakujące dane: pH = 491 braków, Sulfate - 781 brakow, Trihalomethanes - 162 braki."
   ]
  },
  {
   "cell_type": "markdown",
   "id": "dd4315e8",
   "metadata": {},
   "source": [
    "Udział procentowy brakujących danych w zbiorze danych:"
   ]
  },
  {
   "cell_type": "code",
   "execution_count": null,
   "id": "9cf76620",
   "metadata": {},
   "outputs": [],
   "source": [
    "df.isnull().sum() / len(df) * 100"
   ]
  },
  {
   "cell_type": "markdown",
   "id": "52fdd033",
   "metadata": {},
   "source": [
    "Udział procentowy jest duży w szczególności dla kolumny zawierającej wyniki zawartości siarczanów, a więc decyduję się na uzupełnienie braków, a nie ich pominięcie."
   ]
  },
  {
   "cell_type": "markdown",
   "id": "bf0419bc",
   "metadata": {},
   "source": [
    "Sprawdzanie dystrybucji poszczególnych zmiennych - by móc zdecydować w jaki sposób uzupełnić brakujące dane:"
   ]
  },
  {
   "cell_type": "code",
   "execution_count": null,
   "id": "ca002da1",
   "metadata": {},
   "outputs": [],
   "source": [
    "columns = df.columns\n",
    "\n",
    "fig, axes = plt.subplots(3, 3, figsize=(10, 10))\n",
    "product_indexes = product([0, 1, 2], [0, 1, 2])\n",
    "\n",
    "for idx, col in zip(product_indexes, columns):\n",
    "    sns.histplot(x=col, data=df, kde=True, bins=30, ax=axes[idx[0], idx[1]])"
   ]
  },
  {
   "cell_type": "markdown",
   "id": "3b3124c8",
   "metadata": {},
   "source": [
    "Jak widać każda ze zmiennych posiada rozkład normalny, a więc można zastosować uzupełnienie brakujących danych poprzez średnią pogrupowaną według 'Potability':"
   ]
  },
  {
   "cell_type": "code",
   "execution_count": null,
   "id": "1f06b4cf",
   "metadata": {},
   "outputs": [],
   "source": [
    "df['ph']=df['ph'].fillna(df.groupby(['Potability'])['ph'].transform('mean'))\n",
    "df['Sulfate']=df['Sulfate'].fillna(df.groupby(['Potability'])['Sulfate'].transform('mean'))\n",
    "df['Trihalomethanes']=df['Trihalomethanes'].fillna(df.groupby(['Potability'])['Trihalomethanes'].transform('mean'))"
   ]
  },
  {
   "cell_type": "code",
   "execution_count": null,
   "id": "445f6337",
   "metadata": {},
   "outputs": [],
   "source": [
    "#sprawdzenie poprawności uzupełnienia brakujących danych\n",
    "df.isna().sum()"
   ]
  },
  {
   "cell_type": "markdown",
   "id": "f42e2629",
   "metadata": {},
   "source": [
    "Badanie korelacji między zmiennymi za pomocą współczynnika korelacji liniowej Pearsona:"
   ]
  },
  {
   "cell_type": "code",
   "execution_count": null,
   "id": "55a1b7bd",
   "metadata": {},
   "outputs": [],
   "source": [
    "corr_P = df.corr(\"pearson\")"
   ]
  },
  {
   "cell_type": "code",
   "execution_count": null,
   "id": "0d5e6525",
   "metadata": {},
   "outputs": [],
   "source": [
    "corr_P"
   ]
  },
  {
   "cell_type": "code",
   "execution_count": null,
   "id": "5090ebff",
   "metadata": {},
   "outputs": [],
   "source": [
    "corr_P_tri = corr_P.where(np.triu(np.ones(corr_P.shape, dtype=bool),k=1)).stack().sort_values()"
   ]
  },
  {
   "cell_type": "markdown",
   "id": "0bc267c4",
   "metadata": {},
   "source": [
    "Filtrowanie wartości współczynnika korelacji na poziomie 0.5 by sprawdzić czy istnieje współliniowość między zmiennymi"
   ]
  },
  {
   "cell_type": "code",
   "execution_count": null,
   "id": "8d9be1ee",
   "metadata": {},
   "outputs": [],
   "source": [
    "corr_P_tri[abs(corr_P_tri)> 0.50]"
   ]
  },
  {
   "cell_type": "markdown",
   "id": "36a8a4d9",
   "metadata": {},
   "source": [
    "Brak korelacji między zmiennymi, co potwierdza również poniższy wykres:"
   ]
  },
  {
   "cell_type": "code",
   "execution_count": null,
   "id": "05998e57",
   "metadata": {},
   "outputs": [],
   "source": [
    "cols = ['Solids', 'Turbidity', 'Chloramines', 'ph','Trihalomethanes','Hardness','Sulfate'\n",
    "        ,'Conductivity','Organic_carbon']"
   ]
  },
  {
   "cell_type": "code",
   "execution_count": null,
   "id": "23311b49",
   "metadata": {},
   "outputs": [],
   "source": [
    "sns.pairplot(df[cols])"
   ]
  },
  {
   "cell_type": "markdown",
   "id": "37e9b1ec",
   "metadata": {},
   "source": [
    "Identyfikacja punktów oddalonych:"
   ]
  },
  {
   "cell_type": "code",
   "execution_count": null,
   "id": "2db78f02",
   "metadata": {},
   "outputs": [],
   "source": [
    "sns.boxplot(df['ph'])"
   ]
  },
  {
   "cell_type": "code",
   "execution_count": null,
   "id": "ec3e7a45",
   "metadata": {},
   "outputs": [],
   "source": [
    "sns.boxplot(df['Hardness'])"
   ]
  },
  {
   "cell_type": "code",
   "execution_count": null,
   "id": "fd490da3",
   "metadata": {},
   "outputs": [],
   "source": [
    "sns.boxplot(df['Solids'])"
   ]
  },
  {
   "cell_type": "code",
   "execution_count": null,
   "id": "bd7e6c6a",
   "metadata": {},
   "outputs": [],
   "source": [
    "sns.boxplot(df['Sulfate'])"
   ]
  },
  {
   "cell_type": "code",
   "execution_count": null,
   "id": "58e94c50",
   "metadata": {},
   "outputs": [],
   "source": [
    "sns.boxplot(df['Conductivity'])"
   ]
  },
  {
   "cell_type": "code",
   "execution_count": null,
   "id": "e2964005",
   "metadata": {},
   "outputs": [],
   "source": [
    "sns.boxplot(df['Organic_carbon'])"
   ]
  },
  {
   "cell_type": "code",
   "execution_count": null,
   "id": "b83f7b86",
   "metadata": {},
   "outputs": [],
   "source": [
    "sns.boxplot(df['Trihalomethanes'])"
   ]
  },
  {
   "cell_type": "code",
   "execution_count": null,
   "id": "5c49777a",
   "metadata": {},
   "outputs": [],
   "source": [
    "sns.boxplot(df['Turbidity'])"
   ]
  },
  {
   "cell_type": "markdown",
   "id": "01675c81",
   "metadata": {},
   "source": [
    "Metoda Z-score"
   ]
  },
  {
   "cell_type": "markdown",
   "id": "8d55f9dc",
   "metadata": {},
   "source": [
    "Wskaźnik z-score jest oceną standaryzacji, który mierzy siłę odstawania, czyli to, jak bardzo konkretny wynik różni się od wyniku typowego"
   ]
  },
  {
   "cell_type": "code",
   "execution_count": null,
   "id": "34751d0b",
   "metadata": {},
   "outputs": [],
   "source": [
    "z = np.abs(stats.zscore(df))\n",
    "print(z)"
   ]
  },
  {
   "cell_type": "code",
   "execution_count": null,
   "id": "1258c500",
   "metadata": {},
   "outputs": [],
   "source": [
    "#filtrowanie punktów, gdzie odchylenie standardowe jest powyżej 3\n",
    "threshold = 3\n",
    "print(np.where(z > 3))"
   ]
  },
  {
   "cell_type": "markdown",
   "id": "5b34f444",
   "metadata": {},
   "source": [
    "Wszystkie zmienne posiadają punkty oddalone. Ze względu na specyfikę zbioru danych (ich min i max znajdują się w zakresie, który faktycznie mógł wystąpić w naturze) i analizę konkretnych punktów oddalonych (nie są to punkty wynikające z błędu pomiaru) - nie decyduję się na ich usunięcie."
   ]
  },
  {
   "cell_type": "markdown",
   "id": "e58e686c",
   "metadata": {},
   "source": [
    "Dane nie są zbalansowane, co może mieć duży wpływ na wyniki modelowania. Dlatego zastosuję upsampling by uchronić modele przed biasem."
   ]
  },
  {
   "cell_type": "code",
   "execution_count": null,
   "id": "a2e96950",
   "metadata": {},
   "outputs": [],
   "source": [
    "df.Potability.value_counts()\n"
   ]
  },
  {
   "cell_type": "code",
   "execution_count": null,
   "id": "aee01928",
   "metadata": {},
   "outputs": [],
   "source": [
    "#upsampling próbek zdatncych do picia, w celu zrównoważenia zbioru - za pomocą funkcji resample\n",
    "niezdatna  = df[df['Potability']==0]\n",
    "zdatna = df[df['Potability']==1]  \n",
    "\n",
    "df_upsampled = resample(zdatna, replace = True, n_samples = 1998) \n",
    "\n",
    "df = pd.concat([niezdatna, df_upsampled])\n",
    "df = shuffle(df) "
   ]
  },
  {
   "cell_type": "code",
   "execution_count": null,
   "id": "44ccd996",
   "metadata": {},
   "outputs": [],
   "source": [
    "#sprawdzenie poprawności wykonania upsamplingu\n",
    "df.Potability.value_counts()"
   ]
  },
  {
   "cell_type": "markdown",
   "id": "920ae7a8",
   "metadata": {},
   "source": [
    "Przygotowanie danych do modelowania: standaryzacja oraz podział zbioru na treningowy i testujący"
   ]
  },
  {
   "cell_type": "code",
   "execution_count": null,
   "id": "16effb9b",
   "metadata": {},
   "outputs": [],
   "source": [
    "X = df.drop(['Potability'], axis=1)\n",
    "y = df['Potability']"
   ]
  },
  {
   "cell_type": "code",
   "execution_count": null,
   "id": "1476a0d9",
   "metadata": {},
   "outputs": [],
   "source": [
    "#podział zbioru na treningowy i testujący\n",
    "X_train, X_test, y_train, y_test = train_test_split(X, y, test_size=0.2, random_state=40)\n",
    "print(\"X_train\",X_train.shape)\n",
    "print(\"X_test\",X_test.shape)\n",
    "print(\"y_train\",y_train.shape)\n",
    "print(\"y_test\",y_test.shape)"
   ]
  },
  {
   "cell_type": "markdown",
   "id": "7734fac3",
   "metadata": {},
   "source": [
    "Standaryzacja:"
   ]
  },
  {
   "cell_type": "code",
   "execution_count": null,
   "id": "da0dc59a",
   "metadata": {},
   "outputs": [],
   "source": [
    "m = X.mean()\n",
    "s = X.std()"
   ]
  },
  {
   "cell_type": "code",
   "execution_count": null,
   "id": "85921271",
   "metadata": {},
   "outputs": [],
   "source": [
    "X_train_std = (X_train- m)/s\n",
    "X_test_std = (X_test - m)/s"
   ]
  },
  {
   "cell_type": "markdown",
   "id": "a0b602fa",
   "metadata": {},
   "source": [
    "Modelowanie:"
   ]
  },
  {
   "cell_type": "markdown",
   "id": "a09abbdc",
   "metadata": {},
   "source": [
    "Metoda walidująca model przez cztery wybrane metryki accuracy (ACC), precision (P), recall (R) i F1:"
   ]
  },
  {
   "cell_type": "code",
   "execution_count": null,
   "id": "4e58d4e5",
   "metadata": {},
   "outputs": [],
   "source": [
    "def metrics(y_train, y_pred_train, y_test, y_pred):\n",
    "    return {\n",
    "        \"ACC_train\":  sklearn.metrics.accuracy_score(y_pred_train, y_train),\n",
    "        \"ACC_test\": sklearn.metrics.accuracy_score(y_pred, y_test),\n",
    "        \"P_train\":    sklearn.metrics.precision_score(y_pred_train, y_train),\n",
    "        \"P_test\":   sklearn.metrics.precision_score(y_pred, y_test),\n",
    "        \"R_train\":    sklearn.metrics.recall_score(y_pred_train, y_train),\n",
    "        \"R_test\":   sklearn.metrics.recall_score(y_pred, y_test),\n",
    "        \"F1_train\":   sklearn.metrics.f1_score(y_pred_train, y_train),\n",
    "        \"F1_test\":  sklearn.metrics.f1_score(y_pred, y_test)\n",
    "    }"
   ]
  },
  {
   "cell_type": "markdown",
   "id": "2491cdbe",
   "metadata": {},
   "source": [
    "Metoda najbliższych sąsiadów"
   ]
  },
  {
   "cell_type": "markdown",
   "id": "2185a15d",
   "metadata": {},
   "source": [
    "Klasyfikatory K-Najbliższych Sąsiadów (KNN - K-Nearest Neighbors) należą do grupy algorytmów leniwych (lazy), tj. takich, które nie tworzą wewnętrznej reprezentacji wiedzy, lecz poszukają rozwiązania po prezentacji każdego wzorca testowego przeszukując dane uczące. Metoda KNN wymaga przechowywania wszystkich wzorców uczących, dla których określana jest odległość do wzorca testowego."
   ]
  },
  {
   "cell_type": "code",
   "execution_count": null,
   "id": "14e1cc91",
   "metadata": {},
   "outputs": [],
   "source": [
    "knn = KNeighborsClassifier(n_neighbors=10)\n",
    "knn.fit(X_train_std,y_train)"
   ]
  },
  {
   "cell_type": "code",
   "execution_count": null,
   "id": "b9e62e9e",
   "metadata": {},
   "outputs": [],
   "source": [
    "y_pred_train_knn = knn.predict(X_train_std)"
   ]
  },
  {
   "cell_type": "code",
   "execution_count": null,
   "id": "1d1e18f8",
   "metadata": {},
   "outputs": [],
   "source": [
    "y_pred_knn = knn.predict(X_test_std)"
   ]
  },
  {
   "cell_type": "markdown",
   "id": "618e4128",
   "metadata": {},
   "source": [
    "Stworzenie ramki danych w celu zebrania wyników ze wszystkich wykonanych modeli:"
   ]
  },
  {
   "cell_type": "code",
   "execution_count": null,
   "id": "e98039c2",
   "metadata": {},
   "outputs": [],
   "source": [
    "params = [\"knn\"]\n",
    "res = [metrics(y_train, y_pred_train_knn, y_test, y_pred_knn)]\n",
    "df_wyniki = pd.DataFrame(res, index=params)"
   ]
  },
  {
   "cell_type": "code",
   "execution_count": null,
   "id": "fc4731ba",
   "metadata": {},
   "outputs": [],
   "source": [
    "df_wyniki"
   ]
  },
  {
   "cell_type": "code",
   "execution_count": null,
   "id": "b40226ff",
   "metadata": {},
   "outputs": [],
   "source": [
    "#macierz pomyłek dla zbioru uczącego [[true negative, false positive], [false negative, true positive]]\n",
    "plot_confusion_matrix(knn, X_train_std, y_train)\n",
    "plt.show()"
   ]
  },
  {
   "cell_type": "code",
   "execution_count": null,
   "id": "92f0994a",
   "metadata": {},
   "outputs": [],
   "source": [
    "#macierz pomyłek dla zbioru testującego\n",
    "plot_confusion_matrix(knn, X_test_std, y_test)\n",
    "plt.show()"
   ]
  },
  {
   "cell_type": "markdown",
   "id": "8d0fa9da",
   "metadata": {},
   "source": [
    "Random Forest Classifier"
   ]
  },
  {
   "cell_type": "markdown",
   "id": "d0a70584",
   "metadata": {},
   "source": [
    "Lasy losowe są maszynową metodą uczenia się algorytmów klasyfikacyjnych. Obejmuje ona kilka indywidualnych drzew decyzyjnych, które opierają się na cechach losowych i szkoleniu w zakresie danych w celu osiągnięcia inteligentnego zgadywania, które ma większą wiarygodność niż pojedyncze drzewo decyzyjne. Wszystkie drzewa decyzyjne w lesie losowym są oddzielnymi modelami. Każde z nich wykorzystuje podzbiór cech losowych do przewidywania celu, a wszystkie te przewidywane cele kumulują się razem, aby przewidzieć bardziej dokładny cel."
   ]
  },
  {
   "cell_type": "code",
   "execution_count": null,
   "id": "9bdf3af8",
   "metadata": {},
   "outputs": [],
   "source": [
    "rfc = RandomForestClassifier()\n",
    "rfc.fit(X_train_std, y_train)"
   ]
  },
  {
   "cell_type": "code",
   "execution_count": null,
   "id": "1bb9c007",
   "metadata": {},
   "outputs": [],
   "source": [
    "y_pred_train_rfc = rfc.predict(X_train_std)"
   ]
  },
  {
   "cell_type": "code",
   "execution_count": null,
   "id": "18e8f817",
   "metadata": {},
   "outputs": [],
   "source": [
    "y_pred_rfc = rfc.predict(X_test_std)"
   ]
  },
  {
   "cell_type": "code",
   "execution_count": null,
   "id": "15527c05",
   "metadata": {},
   "outputs": [],
   "source": [
    "params.append(\"RFC\")\n",
    "res.append(metrics(y_train, y_pred_train_rfc, y_test, y_pred_rfc))\n",
    "df_wyniki = pd.DataFrame(res, index=params)"
   ]
  },
  {
   "cell_type": "code",
   "execution_count": null,
   "id": "7295781b",
   "metadata": {},
   "outputs": [],
   "source": [
    "df_wyniki"
   ]
  },
  {
   "cell_type": "code",
   "execution_count": null,
   "id": "64a68c10",
   "metadata": {},
   "outputs": [],
   "source": [
    "#las losowy umożliwia nam również sprawdzenie ważności zmiennych\n",
    "featimp = pd.Series(rfc.feature_importances_, index=X.columns[0:11]).sort_values(ascending=False)\n",
    "print(featimp)"
   ]
  },
  {
   "cell_type": "markdown",
   "id": "40f82fd9",
   "metadata": {},
   "source": [
    "Największy wpływ na model mają zmienne pH oraz siarczany"
   ]
  },
  {
   "cell_type": "code",
   "execution_count": null,
   "id": "6cf064f4",
   "metadata": {},
   "outputs": [],
   "source": [
    "#macierz pomyłek dla zbioru uczącego\n",
    "plot_confusion_matrix(rfc, X_train_std, y_train)\n",
    "plt.show()"
   ]
  },
  {
   "cell_type": "code",
   "execution_count": null,
   "id": "2561c061",
   "metadata": {},
   "outputs": [],
   "source": [
    "#macierz pomyłek dla zbioru testującego\n",
    "plot_confusion_matrix(rfc, X_test_std, y_test)\n",
    "plt.show()"
   ]
  },
  {
   "cell_type": "markdown",
   "id": "b16b6654",
   "metadata": {},
   "source": [
    "SVC support vector clasisfier"
   ]
  },
  {
   "cell_type": "markdown",
   "id": "4cdcf324",
   "metadata": {},
   "source": [
    "Support Vector Machine zaliczany jest do estymatorów machine learning uczenia z nadzorem w oparciu o procesy klasyfikacji i analizy regresji.Klasyfikator SVM wykorzystuje algorytm optymalizacji w oparciu o maksymalizację marginesu hiperplanu. Algorytm SVM jest przeznaczony do prowadzenia możliwie najlepszej klasyfikacji wyników. Wektory oddzielające hiperprzestrzenie mogą mieć charakter liniowy lub (dzięki funkcji SVC) nieliniowy."
   ]
  },
  {
   "cell_type": "code",
   "execution_count": null,
   "id": "ae1fe85f",
   "metadata": {},
   "outputs": [],
   "source": [
    "svc= SVC()\n",
    "svc.fit(X_train_std, y_train)"
   ]
  },
  {
   "cell_type": "code",
   "execution_count": null,
   "id": "afbb0807",
   "metadata": {},
   "outputs": [],
   "source": [
    "y_pred_train_svc = svc.predict(X_train_std)"
   ]
  },
  {
   "cell_type": "code",
   "execution_count": null,
   "id": "7b98fc10",
   "metadata": {},
   "outputs": [],
   "source": [
    "y_pred_svc = svc.predict(X_test_std)"
   ]
  },
  {
   "cell_type": "code",
   "execution_count": null,
   "id": "2accbf91",
   "metadata": {},
   "outputs": [],
   "source": [
    "params.append(\"SVC\")\n",
    "res.append(metrics(y_train, y_pred_train_svc, y_test, y_pred_svc))\n",
    "df_wyniki = pd.DataFrame(res, index=params)"
   ]
  },
  {
   "cell_type": "markdown",
   "id": "42c7978f",
   "metadata": {},
   "source": [
    "Wnioski: Porównanie metryk oraz wybranie najlepszego modelu"
   ]
  },
  {
   "cell_type": "code",
   "execution_count": null,
   "id": "a13fde2e",
   "metadata": {},
   "outputs": [],
   "source": [
    "df_wyniki"
   ]
  },
  {
   "cell_type": "code",
   "execution_count": null,
   "id": "cfa0b7f7",
   "metadata": {},
   "outputs": [],
   "source": [
    "df_train = df_wyniki.drop(['ACC_test', 'P_test', 'R_test', 'F1_test'], axis=1)"
   ]
  },
  {
   "cell_type": "code",
   "execution_count": null,
   "id": "d6bcf619",
   "metadata": {},
   "outputs": [],
   "source": [
    "df_test = df_wyniki.drop(['ACC_train', 'P_train', 'R_train', 'F1_train'], axis=1)"
   ]
  },
  {
   "cell_type": "code",
   "execution_count": null,
   "id": "521a22eb",
   "metadata": {},
   "outputs": [],
   "source": [
    "ax = df_train.plot(kind='bar', figsize = (15,10), ylim = (0.2, 1.05), \n",
    "        color = ['gold', 'lightgreen', 'lightcoral', 'lightskyblue'],\n",
    "        rot = 0, title ='Porównanie metryk dla zbioru uczącego',\n",
    "        edgecolor = 'grey', alpha = 0.5)\n",
    "\n",
    "plt.show()"
   ]
  },
  {
   "cell_type": "code",
   "execution_count": null,
   "id": "3bd95768",
   "metadata": {},
   "outputs": [],
   "source": [
    "ax = df_test.plot(kind='bar', figsize = (15,10), ylim = (0.2, 1.05), \n",
    "        color = ['gold', 'lightgreen', 'lightcoral', 'lightskyblue'],\n",
    "        rot = 0, title ='Porównanie metryk dla zbioru testującego',\n",
    "        edgecolor = 'grey', alpha = 0.5)\n",
    "\n",
    "plt.show()"
   ]
  },
  {
   "cell_type": "markdown",
   "id": "d57894de",
   "metadata": {},
   "source": [
    "Kryteria wyboru najlepszego modelu:"
   ]
  },
  {
   "cell_type": "markdown",
   "id": "b6593025",
   "metadata": {},
   "source": [
    "Macierz pomyłek jest metodą reprezentacji wyników predykcji w problemach klasyfikacji, dlatego też została zastosowana do ewaluacji powyższych modeli. Jest to tabela z czterema różnymi kombinacjami wartości przewidywanych i rzeczywistych. Macierz pomyłek przedstawia nie tylko błędy popełniane przez klasyfikator, ale co ważniejsze pokazuje jakie to są rodzaje błędów."
   ]
  },
  {
   "cell_type": "raw",
   "id": "51e42a2e",
   "metadata": {},
   "source": [
    "Accuracy - stosunek ilości poprawnie przewidzianych wartości do łącznej liczby wierszy w zbiorze testowym.\n",
    "\n",
    "Precision - 'Jeżeli model przewidział, że wartość należy do danej klasy to jakie prawdopodobieństwo, że ta predykcja jest poprawna?'\n",
    "\n",
    "Recall - odpowiada na pytanie: „Jakie jest prawdopodobieństwo, że model przewidzi iż wartość należy do klasy T, gdy faktycznie ta wartość do niej należy\n",
    "\n",
    "F1-score - to średnia harmoniczna pomiędzy precyzją (precision) i czułością (recall)"
   ]
  },
  {
   "cell_type": "markdown",
   "id": "2b459965",
   "metadata": {},
   "source": [
    "Analizując powyższe tabelę oraz wykresy - zarówno dla zbioru uczącego jak i testującego - najlepszym modelem ze względu na wybrane metryki jest losowy las decyzyjny. Każda z metryk (dokładność, precyzyjność, czułość oraz F1-score) ma najwyższy wynik, zarówno analizując zbiór uczący jak i testujący. Poniżej zajmę się udoskonaleniem tego właśnie modelu by przeciwdziałać przeuczeniu, które widoczne jest w metrykach zbioru uczącego. Do tego celu zastosuję strojenie hiperparametrów tego modelu za pomocą metody losowania (Random Search)."
   ]
  },
  {
   "cell_type": "markdown",
   "id": "7756e5b7",
   "metadata": {},
   "source": [
    "Strojenie hiperparametrów to proces dostrajania parametrów występujących jako krotki podczas budowania modeli uczenia maszynowego. Parametry te są przez nas definiowane i można nimi manipulować. Strojenie hiperparametrów ma na celu znalezienie takich parametrów, w których wydajność modelu jest najwyższa lub gdzie wydajność modelu jest najlepsza, a wskaźnik błędów jest najmniejszy. "
   ]
  },
  {
   "cell_type": "markdown",
   "id": "385235ed",
   "metadata": {},
   "source": [
    "Hiperparametry:"
   ]
  },
  {
   "cell_type": "markdown",
   "id": "9d5a5348",
   "metadata": {},
   "source": [
    "RandomizedSearchCV:"
   ]
  },
  {
   "cell_type": "markdown",
   "id": "68952c6f",
   "metadata": {},
   "source": [
    "Wadą metody siatki może być słabe „przeczesanie przestrzeni” szczególnie w przypadku gdy poszukujemy więcej niż jednego parametru na raz. Jeżeli przestrzeń parametrów jest mocno nieliniowa, a taka jest w naszym przypadku oraz jeden z parametrów ma niewielki wpływ na wyniki to poszukiwanie parametrów na siatce nie jest optymalnym rozwiązaniem. Regularność siatki powoduje, że możemy nie natrafiać na istotne maksima. Tego problemu pozbawione jest przeszukiwanie losowe. Branie do  każdego eksperymentu losowych wartości metaparametrów zwiększa szanse na to aby trafić w charakter przestrzeni."
   ]
  },
  {
   "cell_type": "code",
   "execution_count": null,
   "id": "fd217116",
   "metadata": {},
   "outputs": [],
   "source": [
    "rf_grid = {\"n_estimators\": np.arange(10,1000,50),\n",
    "           \"max_depth\": [None, 3, 5, 7, 10],\n",
    "           \"min_samples_split\": np.arange(2,20,2),\n",
    "           \"min_samples_leaf\": np.arange(1, 25, 1)}"
   ]
  },
  {
   "cell_type": "code",
   "execution_count": null,
   "id": "c4c164ec",
   "metadata": {},
   "outputs": [],
   "source": [
    "rs_rf = RandomizedSearchCV(RandomForestClassifier(),\n",
    "                           param_distributions = rf_grid,\n",
    "                           cv=5,\n",
    "                           n_iter = 20,\n",
    "                           verbose=True\n",
    "                           )\n",
    "rs_rf.fit(X_train, y_train)"
   ]
  },
  {
   "cell_type": "code",
   "execution_count": null,
   "id": "cf7ef210",
   "metadata": {},
   "outputs": [],
   "source": [
    "best_params = rs_rf.best_params_\n",
    "print(best_params)"
   ]
  },
  {
   "cell_type": "markdown",
   "id": "8246e7d1",
   "metadata": {},
   "source": [
    "Testowanie modelu z hiperparametrami RS"
   ]
  },
  {
   "cell_type": "code",
   "execution_count": null,
   "id": "f8ef9b90",
   "metadata": {},
   "outputs": [],
   "source": [
    "rfc_rs = RandomForestClassifier(**best_params)\n",
    "rfc_rs.fit(X_train_std, y_train)"
   ]
  },
  {
   "cell_type": "code",
   "execution_count": null,
   "id": "609d8855",
   "metadata": {},
   "outputs": [],
   "source": [
    "y_pred_train_rfc_rs = rfc_rs.predict(X_train_std)"
   ]
  },
  {
   "cell_type": "code",
   "execution_count": null,
   "id": "5f2b2e2c",
   "metadata": {},
   "outputs": [],
   "source": [
    "y_pred_rfc_rs = rfc_rs.predict(X_test_std)"
   ]
  },
  {
   "cell_type": "markdown",
   "id": "aede2be3",
   "metadata": {},
   "source": [
    "Stworzenie ramki danych w celu porównania dwóch metod wyznaczenia hiperparametrów:"
   ]
  },
  {
   "cell_type": "code",
   "execution_count": null,
   "id": "aa7b33d3",
   "metadata": {},
   "outputs": [],
   "source": [
    "params_rf = [\"RFC\"]\n",
    "res_rf = [metrics(y_train, y_pred_train_rfc, y_test, y_pred_rfc)]\n",
    "df_wyniki_rf = pd.DataFrame(res_rf, index=params_rf)"
   ]
  },
  {
   "cell_type": "code",
   "execution_count": null,
   "id": "d817606b",
   "metadata": {},
   "outputs": [],
   "source": [
    "params_rf.append(\"RFC RS\")\n",
    "res_rf.append(metrics(y_train, y_pred_train_rfc_rs, y_test, y_pred_rfc_rs))\n",
    "df_wyniki_rf = pd.DataFrame(res_rf, index=params_rf)"
   ]
  },
  {
   "cell_type": "code",
   "execution_count": null,
   "id": "d8366c12",
   "metadata": {},
   "outputs": [],
   "source": [
    "df_wyniki_rf"
   ]
  },
  {
   "cell_type": "markdown",
   "id": "3c90084d",
   "metadata": {},
   "source": [
    "Podsumowanie:"
   ]
  },
  {
   "cell_type": "code",
   "execution_count": null,
   "id": "1b3a8129",
   "metadata": {},
   "outputs": [],
   "source": [
    "df_train_hiper = df_wyniki_rf.drop(['ACC_test', 'P_test', 'R_test', 'F1_test'], axis=1)"
   ]
  },
  {
   "cell_type": "code",
   "execution_count": null,
   "id": "d789a235",
   "metadata": {},
   "outputs": [],
   "source": [
    "df_test_hiper = df_wyniki_rf.drop(['ACC_train', 'P_train', 'R_train', 'F1_train'], axis=1)"
   ]
  },
  {
   "cell_type": "code",
   "execution_count": null,
   "id": "8a3d5f53",
   "metadata": {},
   "outputs": [],
   "source": [
    "ax = df_train_hiper.plot(kind='bar', figsize = (15,10), ylim = (0.2, 1.05), \n",
    "        color = ['gold', 'lightgreen', 'lightcoral', 'lightskyblue'],\n",
    "        rot = 0, title ='Porównanie metryk dla zbioru uczącego z ustalonymi hiperparametrami',\n",
    "        edgecolor = 'grey', alpha = 0.5)\n",
    "\n",
    "plt.show()"
   ]
  },
  {
   "cell_type": "code",
   "execution_count": null,
   "id": "cd21cb60",
   "metadata": {},
   "outputs": [],
   "source": [
    "ax = df_test_hiper.plot(kind='bar', figsize = (15,10), ylim = (0.2, 1.05), \n",
    "        color = ['gold', 'lightgreen', 'lightcoral', 'lightskyblue'],\n",
    "        rot = 0, title ='Porównanie metryk dla zbioru testującego z ustalonymi hiperparametrami',\n",
    "        edgecolor = 'grey', alpha = 0.5)\n",
    "\n",
    "plt.show()"
   ]
  },
  {
   "cell_type": "markdown",
   "id": "eeb65552",
   "metadata": {},
   "source": [
    "Lepsze parametry wykazuje model z zastosowaną metodą losowania dla dostrojenia hiperparametrów. Bez zastosowania jakiejkolwiek metody ustalenia hiperparametrów następuje przeuczenie na zbiorze uczącym - mimo, iż proces strojenia parametrów obniżył nieznacznie pozostałe metryki. Random Search pozwala szybciej przeszukać większy zakres parametrów oraz ich wartości. Możemy w ten sposób szybko nabrać intuicji o zakresach i wpływie parametrów na model."
   ]
  },
  {
   "cell_type": "markdown",
   "id": "eb407402",
   "metadata": {},
   "source": [
    "Zastosowane w powyższym modelowaniu algorytmy mają szerokie zastosowanie w metodach klasyfikacji. Dobrałam je ze względu na możliwość ich zastosowania dla zbiorów niewykazujących liniowości. Mimo to wyraźnie najlepsze wyniki metryk uzyskał właśnie klasyfikator lasu losowego. Jedyną wadą tego modelu stało się przeuczenie zbioru uczącego - inną metodą by móc temu przeciwdziałać i zwiększyć dzięki temu metryki dla zbioru testującego jest głębsza eksploracyjna analiza danych - a właściwie feature engineering. Duży wpływ mogło mieć tutaj zastosowanie średniej w celu uzupełnienia brakujących danych dla zmiennej 'Sulfates', gdyż brakujące dane stanowiły tam aż 25% i 17% przy zmiennej 'ph'. "
   ]
  }
 ],
 "metadata": {
  "kernelspec": {
   "display_name": "Python 3 (ipykernel)",
   "language": "python",
   "name": "python3"
  },
  "language_info": {
   "codemirror_mode": {
    "name": "ipython",
    "version": 3
   },
   "file_extension": ".py",
   "mimetype": "text/x-python",
   "name": "python",
   "nbconvert_exporter": "python",
   "pygments_lexer": "ipython3",
   "version": "3.9.7"
  }
 },
 "nbformat": 4,
 "nbformat_minor": 5
}
